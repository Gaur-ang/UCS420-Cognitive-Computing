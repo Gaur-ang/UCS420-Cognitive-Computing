{
 "cells": [
  {
   "cell_type": "markdown",
   "id": "3aaae910-b210-4d80-8996-b89d527c9d44",
   "metadata": {},
   "source": [
    "Assingment 1.1: WAP to print your name three times"
   ]
  },
  {
   "cell_type": "code",
   "execution_count": 2,
   "id": "54c7b10a-064e-4ba2-a8d9-f6f9e68a659c",
   "metadata": {},
   "outputs": [
    {
     "name": "stdout",
     "output_type": "stream",
     "text": [
      "Gaurang\n",
      "Gaurang\n",
      "Gaurang\n"
     ]
    }
   ],
   "source": [
    "for x in range(0,3):\n",
    "    print('Gaurang')"
   ]
  },
  {
   "cell_type": "markdown",
   "id": "6c5ea890-7c1d-4fe4-8b1a-97f7487d1f9b",
   "metadata": {},
   "source": [
    "Assingment 2.1: WAP to add three numbers and print the result."
   ]
  },
  {
   "cell_type": "code",
   "execution_count": 5,
   "id": "a850c6b5-e2bc-4a67-8317-b4c9ec92a5a3",
   "metadata": {},
   "outputs": [
    {
     "name": "stdin",
     "output_type": "stream",
     "text": [
      "Enter first number:  13\n",
      "Enter second number:  16\n",
      "Enter third number:  1\n"
     ]
    },
    {
     "name": "stdout",
     "output_type": "stream",
     "text": [
      "30\n"
     ]
    }
   ],
   "source": [
    "a=int(input('Enter first number: ')) \n",
    "b=int(input('Enter second number: ')) \n",
    "c=int(input('Enter third number: ')) \n",
    "print(a+b+c)"
   ]
  },
  {
   "cell_type": "markdown",
   "id": "e396a79e-62e3-4e0d-a6f0-6be70708b3f2",
   "metadata": {},
   "source": [
    "Assingment 2.2: WAP to concatinate three strings and print the result."
   ]
  },
  {
   "cell_type": "code",
   "execution_count": 8,
   "id": "91d366a7-1467-4857-8a8e-2067eb8e5c2b",
   "metadata": {},
   "outputs": [
    {
     "name": "stdin",
     "output_type": "stream",
     "text": [
      "Enter first string:  GAUR\n",
      "Enter first string:  ANG \n",
      "Enter first string:  GUPTA\n"
     ]
    },
    {
     "name": "stdout",
     "output_type": "stream",
     "text": [
      "GAURANG GUPTA\n"
     ]
    }
   ],
   "source": [
    "e=input('Enter first string: ')\n",
    "f=input('Enter first string: ')\n",
    "g=input('Enter first string: ') \n",
    "print(e+f+g)"
   ]
  },
  {
   "cell_type": "markdown",
   "id": "97e3a4e5-d8ca-4e73-9a81-ae7d42c4e9b4",
   "metadata": {},
   "source": [
    "Assingment 4.1: WAP to print the table of 7, 9. "
   ]
  },
  {
   "cell_type": "code",
   "execution_count": 18,
   "id": "5883ae4f-c913-4524-9faf-7ead47478048",
   "metadata": {},
   "outputs": [
    {
     "name": "stdout",
     "output_type": "stream",
     "text": [
      "1 * 7 = 7\n",
      "2 * 7 = 14\n",
      "3 * 7 = 21\n",
      "4 * 7 = 28\n",
      "5 * 7 = 35\n",
      "6 * 7 = 42\n",
      "7 * 7 = 49\n",
      "8 * 7 = 56\n",
      "9 * 7 = 63\n",
      "10 * 7 = 70\n",
      " \n",
      "1 * 9 = 9\n",
      "2 * 9 = 18\n",
      "3 * 9 = 27\n",
      "4 * 9 = 36\n",
      "5 * 9 = 45\n",
      "6 * 9 = 54\n",
      "7 * 9 = 63\n",
      "8 * 9 = 72\n",
      "9 * 9 = 81\n",
      "10 * 9 = 90\n",
      " \n"
     ]
    }
   ],
   "source": [
    "for x in range(1,11):\n",
    "    print(x,\"*\",7,\"=\",x*7)\n",
    "print(\" \") \n",
    "for x in range(1,11):\n",
    "    print(x,\"*\",9,\"=\",x*9) \n",
    "print(\" \")"
   ]
  },
  {
   "cell_type": "markdown",
   "id": "87eed5ba-2cbc-4f2b-af7e-b0529dc633b9",
   "metadata": {},
   "source": [
    "Assingment 4.2: WAP to print the table of n and n is given by user."
   ]
  },
  {
   "cell_type": "code",
   "execution_count": 21,
   "id": "1281287a-1cfc-4e9c-b6db-3659955f79e2",
   "metadata": {},
   "outputs": [
    {
     "name": "stdin",
     "output_type": "stream",
     "text": [
      "Enter the number:  4\n"
     ]
    },
    {
     "name": "stdout",
     "output_type": "stream",
     "text": [
      "1 * 4 = 4\n",
      "2 * 4 = 8\n",
      "3 * 4 = 12\n",
      "4 * 4 = 16\n",
      " \n"
     ]
    }
   ],
   "source": [
    "n=int(input(\"Enter the number: \")) \n",
    "for x in range(1,n+1):\n",
    "    print(x,\"*\",n,\"=\",x*n) \n",
    "print(\" \")"
   ]
  },
  {
   "cell_type": "markdown",
   "id": "e4e9a9a2-23ba-4f5a-ab1f-b10f254760a0",
   "metadata": {},
   "source": [
    "Assingment 4.3: WAP to add all the numbers from 1 to n and n is given by user."
   ]
  },
  {
   "cell_type": "code",
   "execution_count": 24,
   "id": "7faa69be-4e54-46d1-99ed-de32c3580c54",
   "metadata": {},
   "outputs": [
    {
     "name": "stdin",
     "output_type": "stream",
     "text": [
      "Enter the number:  4\n"
     ]
    },
    {
     "name": "stdout",
     "output_type": "stream",
     "text": [
      "10\n"
     ]
    }
   ],
   "source": [
    "n=int(input(\"Enter the number: \")) \n",
    "s=0 \n",
    "for x in range(1,n+1):\n",
    "    s+=x \n",
    "print(s)"
   ]
  },
  {
   "cell_type": "markdown",
   "id": "794e7d3d-dd18-4eb5-9538-d089d0bd1f19",
   "metadata": {},
   "source": [
    "Assingment 5.1: WAP to find max amoung three numbers and input from user."
   ]
  },
  {
   "cell_type": "code",
   "execution_count": 27,
   "id": "26d67e59-d6c9-4b2d-ba9a-b02ce6ab0308",
   "metadata": {},
   "outputs": [
    {
     "name": "stdin",
     "output_type": "stream",
     "text": [
      "Enter first number:  12\n",
      "Enter second number:  14\n",
      "Enter third number:  16\n"
     ]
    },
    {
     "name": "stdout",
     "output_type": "stream",
     "text": [
      "16.0\n"
     ]
    }
   ],
   "source": [
    "a = float(input(\"Enter first number: \"))\n",
    "b = float(input(\"Enter second number: \"))\n",
    "c = float(input(\"Enter third number: \")) \n",
    "if a >= b:\n",
    "    if a >= c:\n",
    "        print(a) \n",
    "    else:\n",
    "        print(c) \n",
    "elif b >= c: \n",
    "    print(b) \n",
    "else: print(c)"
   ]
  },
  {
   "cell_type": "markdown",
   "id": "05646a0a-9776-4fe3-8d4d-1ee2ff4e7a61",
   "metadata": {},
   "source": [
    "Assingment 5.2: WAP to add all numbers divisible by 7 and 9 from 1 to n and n is given by the user. "
   ]
  },
  {
   "cell_type": "code",
   "execution_count": 30,
   "id": "cfd4d335-68df-4850-9ca4-f08583cb8f3a",
   "metadata": {},
   "outputs": [
    {
     "name": "stdin",
     "output_type": "stream",
     "text": [
      "Enter the number:  63\n"
     ]
    },
    {
     "name": "stdout",
     "output_type": "stream",
     "text": [
      "63\n"
     ]
    }
   ],
   "source": [
    "n=int(input(\"Enter the number: \"))\n",
    "s=0 \n",
    "for x in range(1,n+1): \n",
    "    if x%7==0 and x%9==0:\n",
    "        s+=x\n",
    "print(s)"
   ]
  },
  {
   "cell_type": "markdown",
   "id": "3db4a7dc-f961-421a-966c-dd1de9e1283a",
   "metadata": {},
   "source": [
    "Assingment 5.3: WAP to add all prime numbers from 1 to n and n is given by the user. "
   ]
  },
  {
   "cell_type": "code",
   "execution_count": 33,
   "id": "3c7310b0-3696-4f0f-887a-eac91f7c95a2",
   "metadata": {},
   "outputs": [
    {
     "name": "stdin",
     "output_type": "stream",
     "text": [
      "Enter a No:  10\n"
     ]
    },
    {
     "name": "stdout",
     "output_type": "stream",
     "text": [
      "17\n"
     ]
    }
   ],
   "source": [
    "n = int(input(\"Enter a No: \")) \n",
    "s=0 \n",
    "for x in range(2,n+1):\n",
    "    f=0\n",
    "    for i in range(2, x//2 + 1):\n",
    "        if x % i == 0:\n",
    "            f=1\n",
    "    if f==0:\n",
    "        s+=x\n",
    "print(s)"
   ]
  },
  {
   "cell_type": "markdown",
   "id": "a506d9d8-962c-4cbd-9700-2c00cbfea103",
   "metadata": {},
   "source": [
    "Assingment 6.1: WAP using function that add all odd numbers from 1 to n, n is given by the user."
   ]
  },
  {
   "cell_type": "code",
   "execution_count": 36,
   "id": "f44ecfae-9ead-4f0f-bafc-560f9cd5e5d0",
   "metadata": {},
   "outputs": [
    {
     "name": "stdin",
     "output_type": "stream",
     "text": [
      "Enter a No:  10\n"
     ]
    },
    {
     "name": "stdout",
     "output_type": "stream",
     "text": [
      "25\n"
     ]
    }
   ],
   "source": [
    "def AddOdd(n):\n",
    "    s=0\n",
    "    for x in range(1,n+1):\n",
    "        if not x%2==0:\n",
    "            s+=x\n",
    "    print(s)\n",
    "\n",
    "n = int(input(\"Enter a No: \"))\n",
    "AddOdd(n)"
   ]
  },
  {
   "cell_type": "markdown",
   "id": "0faafaa8-9493-484d-bfa6-64dfe8a74127",
   "metadata": {},
   "source": [
    "Assingment 6.2: WAP using function that add all prime numbers from 1 to n, n given by the user. "
   ]
  },
  {
   "cell_type": "code",
   "execution_count": null,
   "id": "5fa3777e-e848-464d-abe6-dfcd10d22130",
   "metadata": {},
   "outputs": [],
   "source": [
    "def AddPrime(n):\n",
    "    s=0\n",
    "    for x in range(2,n+1):\n",
    "        f=0\n",
    "        for i in range(2, x//2 + 1):\n",
    "            if x % i == 0:\n",
    "                f=1\n",
    "        if f==0:\n",
    "            s+=x\n",
    "    print(s)\n",
    "\n",
    "n = int(input(\"Enter a No: \"))\n",
    "AddPrime(n)"
   ]
  },
  {
   "cell_type": "code",
   "execution_count": null,
   "id": "c2969a43-beda-4b71-be40-b276f2632eac",
   "metadata": {},
   "outputs": [],
   "source": []
  }
 ],
 "metadata": {
  "kernelspec": {
   "display_name": "Python [conda env:base] *",
   "language": "python",
   "name": "conda-base-py"
  },
  "language_info": {
   "codemirror_mode": {
    "name": "ipython",
    "version": 3
   },
   "file_extension": ".py",
   "mimetype": "text/x-python",
   "name": "python",
   "nbconvert_exporter": "python",
   "pygments_lexer": "ipython3",
   "version": "3.12.7"
  }
 },
 "nbformat": 4,
 "nbformat_minor": 5
}
