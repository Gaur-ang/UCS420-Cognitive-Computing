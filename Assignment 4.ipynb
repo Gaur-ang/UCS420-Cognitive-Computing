{
 "cells": [
  {
   "cell_type": "markdown",
   "id": "63fc83c8-7dfa-45a7-95e1-485cb1e82f22",
   "metadata": {},
   "source": [
    "Q.1 Write a program to create a NumPy 1D-array with 5 elements and perform basic \n",
    "operations like: \n",
    "a) Addition of 2 in all the element  \n",
    "b) Multiply 3 with all the elements \n",
    "c) Divide every element by 2 "
   ]
  },
  {
   "cell_type": "code",
   "execution_count": 38,
   "id": "c924a21d-c74a-43c2-ac2f-b7222efa5705",
   "metadata": {},
   "outputs": [
    {
     "name": "stdout",
     "output_type": "stream",
     "text": [
      "[3 5 7 9]\n",
      "[ 3  9 15 21]\n",
      "[0.5 1.5 2.5 3.5]\n"
     ]
    }
   ],
   "source": [
    "import numpy as n\n",
    "arr=n.array([1,3,5,7])\n",
    "\n",
    "arr_add=arr+2\n",
    "print(arr_add)\n",
    "\n",
    "arr_multi=arr*3\n",
    "print(arr_multi)\n",
    "\n",
    "arr_div=arr/2\n",
    "print(arr_div)"
   ]
  },
  {
   "cell_type": "markdown",
   "id": "df70556d-1524-467f-8de9-14f201c41391",
   "metadata": {},
   "source": [
    "Q.2 Questions on Basic NumPy Array: \n",
    "a) Reverse the NumPy array: arr = np.array([1, 2, 3, 6, 4, 5]) \n",
    "b) Find the most frequent value and their indice(s) in the following arrays: \n",
    "i. x = np.array([1,2,3,4,5,1,2,1,1,1]) \n",
    "ii. y = np.array([1, 1, 1, 2, 3, 4, 2, 4, 3, 3, ])"
   ]
  },
  {
   "cell_type": "code",
   "execution_count": 39,
   "id": "25a81c76-7a4d-46c2-8ec4-54f970b51ce4",
   "metadata": {},
   "outputs": [
    {
     "name": "stdout",
     "output_type": "stream",
     "text": [
      "[5 4 6 3 2 1]\n",
      "5.0   1\n",
      "1\n",
      "6\n",
      "8\n",
      "9\n",
      "10\n"
     ]
    }
   ],
   "source": [
    "arr1=n.array([1,2,3,6,4,5])\n",
    "arr1=arr1[::-1]\n",
    "print(arr1)\n",
    "\n",
    "x=n.array([1,2,3,4,5,1,2,1,1,1])\n",
    "v=n.zeros(5)\n",
    "for i in x:\n",
    "    t=i\n",
    "    v[t-1]=1+v[t-1]\n",
    "count=-1\n",
    "f=-1\n",
    "for i in range(0,5):\n",
    "    if(count<v[i]):\n",
    "        count=v[i]\n",
    "        f=i+1\n",
    "print(count,\" \",f)\n",
    "counter=0\n",
    "for i in x:\n",
    "    counter+=1\n",
    "    if i==f:\n",
    "        print(counter)"
   ]
  },
  {
   "cell_type": "markdown",
   "id": "0d2c2a5a-8950-4c0f-a7f1-f3029454613f",
   "metadata": {},
   "source": [
    "Q.3 For the given 2-D array arr=np.array([10, 20, 30], [40, 50, 60], [70, 80, 90]), access \n",
    "elements using row and column indices as follows: \n",
    "a) Access 1st row, 2nd column  \n",
    "b) Access 3rd row, 1st column"
   ]
  },
  {
   "cell_type": "code",
   "execution_count": 23,
   "id": "74d41ee6-3c0e-4aa6-beef-ff377f0bae36",
   "metadata": {},
   "outputs": [
    {
     "name": "stdout",
     "output_type": "stream",
     "text": [
      "20\n",
      "70\n"
     ]
    }
   ],
   "source": [
    "arr2=n.array([[10,20,30],[40,50,60],[70,80,90]])\n",
    "print(arr2[0,1])\n",
    "print(arr2[2,0])"
   ]
  },
  {
   "cell_type": "markdown",
   "id": "3d3bab80-84cd-4085-aea1-75712731e217",
   "metadata": {},
   "source": [
    "Q.4 Write program to create an 1-D NumPy array named <<Your Name>> with evenly \n",
    "spaced 25 numbers from 10 to 100 using linspace(). Print the dimensions of the array, \n",
    "shape, total elements, the data type of each element and total number of bytes consumed \n",
    "by the array. Find the transpose of this array using reshape() attribute. Can we do the same \n",
    "with T attribute? "
   ]
  },
  {
   "cell_type": "code",
   "execution_count": 36,
   "id": "3056af5d-f540-4b6d-8e25-95010771a1da",
   "metadata": {},
   "outputs": [
    {
     "name": "stdout",
     "output_type": "stream",
     "text": [
      "[ 10.    13.75  17.5   21.25  25.    28.75  32.5   36.25  40.    43.75\n",
      "  47.5   51.25  55.    58.75  62.5   66.25  70.    73.75  77.5   81.25\n",
      "  85.    88.75  92.5   96.25 100.  ]\n",
      "1\n",
      "float64\n",
      "25\n",
      "200\n",
      "[ 10.    13.75  17.5   21.25  25.    28.75  32.5   36.25  40.    43.75\n",
      "  47.5   51.25  55.    58.75  62.5   66.25  70.    73.75  77.5   81.25\n",
      "  85.    88.75  92.5   96.25 100.  ]\n"
     ]
    }
   ],
   "source": [
    "Gaurang=n.linspace(10,100,num=25)\n",
    "print(Gaurang)\n",
    "\n",
    "print(Gaurang.ndim)\n",
    "\n",
    "print(Gaurang.dtype)\n",
    "\n",
    "print(len(Gaurang))\n",
    "\n",
    "arr_size=Gaurang.size*Gaurang.itemsize\n",
    "print(arr_size)\n",
    "\n",
    "print(Gaurang.T)"
   ]
  },
  {
   "cell_type": "markdown",
   "id": "c5b051d9-ecc0-4b1c-9f3d-251f7d9e0b8d",
   "metadata": {},
   "source": [
    "Q5. Create a 2-D Array of three rows and four columns, named ucs420_<your_name>> \n",
    "with following values – 10, 20, 30, 40, 50, 60, 70, 80, 90, 15, 20, 35. Compute the mean, \n",
    "median, max, min, unique elements. Reshape the array to four rows and three columns and \n",
    "name it as reshaped_ ucs420_<your_name>>. Resize the array to two rows and three \n",
    "columns and name it as resized_ ucs420_<your_name>>"
   ]
  },
  {
   "cell_type": "code",
   "execution_count": 44,
   "id": "01293279-8e03-4f05-b34c-17cbb88caba8",
   "metadata": {},
   "outputs": [
    {
     "name": "stdout",
     "output_type": "stream",
     "text": [
      "43.333333333333336\n",
      "37.5\n",
      "90\n",
      "10\n",
      "[10 15 20 30 35 40 50 60 70 80 90]\n"
     ]
    }
   ],
   "source": [
    "ucs420_Gaurang=n.array([[10,20,30,40],[50,60,70,80],[90,15,20,35]])\n",
    "print(n.mean(ucs420_Gaurang))\n",
    "print(n.median(ucs420_Gaurang))\n",
    "print(n.max(ucs420_Gaurang))\n",
    "print(n.min(ucs420_Gaurang))\n",
    "print(n.unique(ucs420_Gaurang))\n",
    "reshaped_ucs420_Gaurang=ucs420_Gaurang.reshape(4,3)\n",
    "print(reshaped_ucs420_Gaurang)\n",
    "resized_ucs420_Gaurang=np.resize(reshaped_ucs420_Gaurang,(2,3))\n",
    "print(resized_ucs420_ruhaan)\n",
    "     "
   ]
  },
  {
   "cell_type": "code",
   "execution_count": null,
   "id": "71b0dea3-5e26-44f6-a7d5-e4efa6d1fe60",
   "metadata": {},
   "outputs": [],
   "source": []
  }
 ],
 "metadata": {
  "kernelspec": {
   "display_name": "Python [conda env:base] *",
   "language": "python",
   "name": "conda-base-py"
  },
  "language_info": {
   "codemirror_mode": {
    "name": "ipython",
    "version": 3
   },
   "file_extension": ".py",
   "mimetype": "text/x-python",
   "name": "python",
   "nbconvert_exporter": "python",
   "pygments_lexer": "ipython3",
   "version": "3.12.7"
  }
 },
 "nbformat": 4,
 "nbformat_minor": 5
}
