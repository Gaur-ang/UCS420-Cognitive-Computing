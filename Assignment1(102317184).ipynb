{
 "cells": [
  {
   "cell_type": "markdown",
   "id": "8d9ee6c4-6ad9-4293-8d56-7c6f7d3a5d52",
   "metadata": {},
   "source": [
    "Assingment 1.1: WAP to print your name three times\n",
    "for x in range(0,3):\n",
    "    print('Gaurang')\n"
   ]
  },
  {
   "cell_type": "markdown",
   "id": "6a1e9e17-84a0-413c-981c-8cb5fb80aa20",
   "metadata": {},
   "source": [
    "Assingment 2.1: WAP to add three numbers and print the result.\n",
    "a=int(input('Enter first number: '))\n",
    "b=int(input('Enter second number: '))\n",
    "c=int(input('Enter third number: '))\n",
    "print(a+b+c)\n",
    "Assingment 2.2: WAP to concatinate three strings and print the result.\n",
    "e=input('Enter first string: ')\n",
    "f=input('Enter first string: ')\n",
    "g=input('Enter first string: ')\n",
    "print(e+f+g)"
   ]
  },
  {
   "cell_type": "markdown",
   "id": "e78b5900-99ea-4504-9711-6806ef9f7e74",
   "metadata": {},
   "source": [
    "Assingment 4.1: WAP to print the table of 7, 9.\n",
    "for x in range(1,11):\n",
    "    print(x,\"*\",7,\"=\",x*7)\n",
    "print(\" \") \n",
    "for x in range(1,11):\n",
    "    print(x,\"*\",9,\"=\",x*9) \n",
    "print(\" \")\n",
    "\n",
    "Assingment 4.2: WAP to print the table of n and n is given by user.\n",
    "n=int(input(\"Enter the number: \")) \n",
    "for x in range(1,n+1):\n",
    "   print(x,\"*\",n,\"=\",x*n) \n",
    "print(\" \")\n",
    "\n",
    "Assingment 4.3: WAP to add all the numbers from 1 to n and n is given by user.\n",
    "n=int(input(\"Enter the number: \")) \n",
    "s=0 \n",
    "for x in range(1,n+1):\n",
    "   s+=x\n",
    "print(s)\n",
    "\n"
   ]
  },
  {
   "cell_type": "markdown",
   "id": "c50a0b0d-2c60-4ee2-ba7a-33be003715ff",
   "metadata": {},
   "source": [
    "Assingment 5.1: WAP to find max amoung three numbers and input from user.\n",
    "a = float(input(\"Enter first number: \"))\n",
    "b = float(input(\"Enter second number: \"))\n",
    "c = float(input(\"Enter third number: \"))\n",
    "if a >= b:\n",
    "    if a >= c:\n",
    "        print(a)\n",
    "    else:\n",
    "        print(c)\n",
    "elif b >= c:\n",
    "    print(b)\n",
    "else:\n",
    "    print(c)\n",
    "\n",
    "Assingment 5.2: WAP to add all numbers divisible by 7 and 9 from 1 to n and n is given by the user.\n",
    "n=int(input(\"Enter the number: \")) \n",
    "s=0 \n",
    "for x in range(1,n+1):\n",
    "   if x%7==0 and x%9==0:\n",
    "       s+=x\n",
    "print(s)\n",
    "\n",
    "Assingment 5.3: WAP to add all prime numbers from 1 to n and n is given by the user.\n",
    "n = int(input(\"Enter a No: \"))\n",
    "s=0\n",
    "for x in range(2,n+1):\n",
    "    f=0\n",
    "    for i in range(2, x//2 + 1):\n",
    "        if  x % i == 0:\n",
    "            f=1\n",
    "    if f==0:\n",
    "        s+=x\n",
    "print(s)        "
   ]
  },
  {
   "cell_type": "markdown",
   "id": "4d1c5dd7-7fe4-484b-80e5-d4360d894b79",
   "metadata": {},
   "source": [
    "Assingment 6.1: WAP using function that add all odd numbers from 1 to n, n is given by the user.\n",
    "def AddOdd(n):\n",
    "    s=0\n",
    "    for x in range(1,n+1):\n",
    "        if not x%2==0:\n",
    "            s+=x \n",
    "    print(s)\n",
    "    \n",
    "Assingment 6.2: WAP using function that add all prime numbers from 1 to n, n given by the user.\n",
    "n = int(input(\"Enter a No: \"))\n",
    "AddOdd(n)\n",
    "def AddPrime(n):\n",
    "    s=0\n",
    "    for x in range(2,n+1):\n",
    "        f=0\n",
    "        for i in range(2, x//2 + 1):\n",
    "            if  x % i == 0:\n",
    "                f=1\n",
    "\n",
    "        if f==0:\n",
    "            s+=x\n",
    "    print(s)\n",
    "\n",
    "n = int(input(\"Enter a No: \"))\n",
    "AddPrime(n)"
   ]
  },
  {
   "cell_type": "markdown",
   "id": "a8291886-5685-4b05-8c97-86e3f0464156",
   "metadata": {},
   "source": []
  }
 ],
 "metadata": {
  "kernelspec": {
   "display_name": "Python 3 (ipykernel)",
   "language": "python",
   "name": "python3"
  },
  "language_info": {
   "codemirror_mode": {
    "name": "ipython",
    "version": 3
   },
   "file_extension": ".py",
   "mimetype": "text/x-python",
   "name": "python",
   "nbconvert_exporter": "python",
   "pygments_lexer": "ipython3",
   "version": "3.12.7"
  }
 },
 "nbformat": 4,
 "nbformat_minor": 5
}
